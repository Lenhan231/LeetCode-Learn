{
 "cells": [
  {
   "cell_type": "code",
   "execution_count": 22,
   "metadata": {},
   "outputs": [],
   "source": [
    "import cv2\n",
    "import os\n",
    "import glob\n"
   ]
  },
  {
   "cell_type": "code",
   "execution_count": 23,
   "metadata": {},
   "outputs": [
    {
     "name": "stdout",
     "output_type": "stream",
     "text": [
      "2024-05-04 19-33-54.mkv\n",
      "2024-05-04 19-35-34.mkv\n",
      "2024-05-04 20-46-20.mkv\n",
      "2024-06-22 20-02-10.mkv\n"
     ]
    }
   ],
   "source": [
    "if __name__ == '__main__':\n",
    "    root_path = \"C:\\\\test_video\" \n",
    "    # folder gom file video and json\n",
    "    # video_paths = glob.iglob(\"{}/*/*.mp4\".format(root_path))\n",
    "    for subdir in os.listdir(root_path):\n",
    "        print(subdir)\n",
    "    # Loại bỏ phần đuôi sử dụng hàm replace\n",
    "    # json lưu trữ thông tin dưới dạng object \n",
    "    # =>  \n",
    "    "
   ]
  }
 ],
 "metadata": {
  "kernelspec": {
   "display_name": "Python 3",
   "language": "python",
   "name": "python3"
  },
  "language_info": {
   "codemirror_mode": {
    "name": "ipython",
    "version": 3
   },
   "file_extension": ".py",
   "mimetype": "text/x-python",
   "name": "python",
   "nbconvert_exporter": "python",
   "pygments_lexer": "ipython3",
   "version": "3.10.6"
  }
 },
 "nbformat": 4,
 "nbformat_minor": 2
}
